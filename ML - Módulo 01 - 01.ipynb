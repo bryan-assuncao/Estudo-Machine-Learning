{
 "cells": [
  {
   "cell_type": "code",
   "execution_count": null,
   "id": "92c1699d",
   "metadata": {},
   "outputs": [],
   "source": [
    "# Feature [0 - Não, 1 - Sim]\n",
    "\n",
    "# Pelo \n",
    "# Perna Curta\n",
    "# Late\n",
    "\n",
    "pig1 = [0, 1, 0]\n",
    "pig2 = [0, 1, 0]\n",
    "pig3 = [1, 1, 0]\n",
    "\n",
    "dog1 = [0, 1, 1]\n",
    "dog2 = [1, 0, 1]\n",
    "dog3 = [1, 1, 1]\n",
    "\n",
    "train_x = [pig1, pig2, pig3, dog1, dog2, dog3]\n",
    "train_y = [0, 0, 0, 1, 1, 1]\n",
    "\n",
    "# 0 - Porco\n",
    "# 1 - Cachorro"
   ]
  },
  {
   "cell_type": "code",
   "execution_count": null,
   "id": "e2e64e97",
   "metadata": {},
   "outputs": [],
   "source": [
    "from sklearn.svm import LinearSVC\n",
    "model = LinearSVC()\n",
    "model.fit(train_x, train_y)"
   ]
  },
  {
   "cell_type": "code",
   "execution_count": null,
   "id": "81355705",
   "metadata": {},
   "outputs": [],
   "source": [
    "mysterius_animal1 = [1, 1, 1]\n",
    "mysterius_animal2 = [1, 1, 0]\n",
    "mysterius_animal3 = [0, 1, 1]\n",
    "\n",
    "test_x = [mysterius_animal1, mysterius_animal2, mysterius_animal3]\n",
    "prediction = model.predict(test_x)\n",
    "\n",
    "test_y = [1, 0, 1] # Respostas corretas (Que só eu sei)"
   ]
  },
  {
   "cell_type": "code",
   "execution_count": null,
   "id": "315e32e0",
   "metadata": {},
   "outputs": [
    {
     "name": "stdout",
     "output_type": "stream",
     "text": [
      "Acurácia de 100.0%\n"
     ]
    }
   ],
   "source": [
    "from sklearn.metrics import accuracy_score\n",
    "\n",
    "corret = (prediction == test_y).sum()\n",
    "total = len(test_y)\n",
    "\n",
    "accuracy_rate = accuracy_score(test_y, prediction) * 100\n",
    "print(f\"Acurácia de {accuracy_rate}%\")"
   ]
  }
 ],
 "metadata": {
  "kernelspec": {
   "display_name": "Python 3",
   "language": "python",
   "name": "python3"
  },
  "language_info": {
   "codemirror_mode": {
    "name": "ipython",
    "version": 3
   },
   "file_extension": ".py",
   "mimetype": "text/x-python",
   "name": "python",
   "nbconvert_exporter": "python",
   "pygments_lexer": "ipython3",
   "version": "3.10.11"
  }
 },
 "nbformat": 4,
 "nbformat_minor": 5
}
